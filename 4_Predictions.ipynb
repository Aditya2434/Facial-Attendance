{
 "cells": [
  {
   "cell_type": "markdown",
   "id": "e0984e5b",
   "metadata": {},
   "source": [
    "## Predictions\n",
    "URL: https://www.udemy.com/user/freeai-space/"
   ]
  },
  {
   "cell_type": "code",
   "execution_count": 6,
   "id": "588d88c4",
   "metadata": {},
   "outputs": [],
   "source": [
    "import face_rec"
   ]
  },
  {
   "cell_type": "code",
   "execution_count": 7,
   "id": "ea8558e8",
   "metadata": {},
   "outputs": [],
   "source": [
    "import pandas as pd\n",
    "import numpy as np\n",
    "import cv2"
   ]
  },
  {
   "cell_type": "code",
   "execution_count": 8,
   "id": "00a47b3f",
   "metadata": {},
   "outputs": [
    {
     "data": {
      "text/plain": [
       "True"
      ]
     },
     "execution_count": 8,
     "metadata": {},
     "output_type": "execute_result"
    }
   ],
   "source": [
    "face_rec.r.ping()"
   ]
  },
  {
   "cell_type": "markdown",
   "id": "d25d421e",
   "metadata": {},
   "source": [
    "#### Step-1: Extract Data from database"
   ]
  },
  {
   "cell_type": "code",
   "execution_count": 9,
   "id": "d234b10c",
   "metadata": {},
   "outputs": [
    {
     "data": {
      "text/html": [
       "<div>\n",
       "<style scoped>\n",
       "    .dataframe tbody tr th:only-of-type {\n",
       "        vertical-align: middle;\n",
       "    }\n",
       "\n",
       "    .dataframe tbody tr th {\n",
       "        vertical-align: top;\n",
       "    }\n",
       "\n",
       "    .dataframe thead th {\n",
       "        text-align: right;\n",
       "    }\n",
       "</style>\n",
       "<table border=\"1\" class=\"dataframe\">\n",
       "  <thead>\n",
       "    <tr style=\"text-align: right;\">\n",
       "      <th></th>\n",
       "      <th>name_role</th>\n",
       "      <th>facial_features</th>\n",
       "      <th>Name</th>\n",
       "      <th>Role</th>\n",
       "    </tr>\n",
       "  </thead>\n",
       "  <tbody>\n",
       "    <tr>\n",
       "      <th>0</th>\n",
       "      <td>Angelina Jolie@Student</td>\n",
       "      <td>[4.172325e-08, 1.7162043, -4.172325e-08, 1.884...</td>\n",
       "      <td>Angelina Jolie</td>\n",
       "      <td>Student</td>\n",
       "    </tr>\n",
       "    <tr>\n",
       "      <th>1</th>\n",
       "      <td>Chris Evans@Student</td>\n",
       "      <td>[1.5881868e-23, 1.8050245, -4.172325e-08, -1.9...</td>\n",
       "      <td>Chris Evans</td>\n",
       "      <td>Student</td>\n",
       "    </tr>\n",
       "    <tr>\n",
       "      <th>2</th>\n",
       "      <td>Aditya@Student</td>\n",
       "      <td>[0.17655766, 0.94613665, 0.8207567, 1.0703824,...</td>\n",
       "      <td>Aditya</td>\n",
       "      <td>Student</td>\n",
       "    </tr>\n",
       "    <tr>\n",
       "      <th>3</th>\n",
       "      <td>Barack Obama@Teacher</td>\n",
       "      <td>[-107374184.0, 1.8621769, -1.5881868e-23, -1.7...</td>\n",
       "      <td>Barack Obama</td>\n",
       "      <td>Teacher</td>\n",
       "    </tr>\n",
       "    <tr>\n",
       "      <th>4</th>\n",
       "      <td>Scarlett Johansson@Student</td>\n",
       "      <td>[4.172325e-08, 1.5663154, 0.0, -1.7442352, -1....</td>\n",
       "      <td>Scarlett Johansson</td>\n",
       "      <td>Student</td>\n",
       "    </tr>\n",
       "    <tr>\n",
       "      <th>5</th>\n",
       "      <td>Ranbir@Student</td>\n",
       "      <td>[1.1239108, 0.60492295, -0.6319084, -0.5830812...</td>\n",
       "      <td>Ranbir</td>\n",
       "      <td>Student</td>\n",
       "    </tr>\n",
       "    <tr>\n",
       "      <th>6</th>\n",
       "      <td>Deepika@Student</td>\n",
       "      <td>[-0.74970865, 0.25693923, -1.1688092, 0.356931...</td>\n",
       "      <td>Deepika</td>\n",
       "      <td>Student</td>\n",
       "    </tr>\n",
       "    <tr>\n",
       "      <th>7</th>\n",
       "      <td>Sharukh Khan@Teacher</td>\n",
       "      <td>[1.3005296, 0.22714818, 0.14586487, -0.3549119...</td>\n",
       "      <td>Sharukh Khan</td>\n",
       "      <td>Teacher</td>\n",
       "    </tr>\n",
       "    <tr>\n",
       "      <th>8</th>\n",
       "      <td>Salman @Student</td>\n",
       "      <td>[-0.24016514, -0.9569494, -1.0685889, 0.797408...</td>\n",
       "      <td>Salman</td>\n",
       "      <td>Student</td>\n",
       "    </tr>\n",
       "    <tr>\n",
       "      <th>9</th>\n",
       "      <td>Morgan Freeman@Teacher</td>\n",
       "      <td>[-1.5881868e-23, 1.7427129, 107374184.0, -1.77...</td>\n",
       "      <td>Morgan Freeman</td>\n",
       "      <td>Teacher</td>\n",
       "    </tr>\n",
       "  </tbody>\n",
       "</table>\n",
       "</div>"
      ],
      "text/plain": [
       "                    name_role  \\\n",
       "0      Angelina Jolie@Student   \n",
       "1         Chris Evans@Student   \n",
       "2              Aditya@Student   \n",
       "3        Barack Obama@Teacher   \n",
       "4  Scarlett Johansson@Student   \n",
       "5              Ranbir@Student   \n",
       "6             Deepika@Student   \n",
       "7        Sharukh Khan@Teacher   \n",
       "8             Salman @Student   \n",
       "9      Morgan Freeman@Teacher   \n",
       "\n",
       "                                     facial_features                Name  \\\n",
       "0  [4.172325e-08, 1.7162043, -4.172325e-08, 1.884...      Angelina Jolie   \n",
       "1  [1.5881868e-23, 1.8050245, -4.172325e-08, -1.9...         Chris Evans   \n",
       "2  [0.17655766, 0.94613665, 0.8207567, 1.0703824,...              Aditya   \n",
       "3  [-107374184.0, 1.8621769, -1.5881868e-23, -1.7...        Barack Obama   \n",
       "4  [4.172325e-08, 1.5663154, 0.0, -1.7442352, -1....  Scarlett Johansson   \n",
       "5  [1.1239108, 0.60492295, -0.6319084, -0.5830812...              Ranbir   \n",
       "6  [-0.74970865, 0.25693923, -1.1688092, 0.356931...             Deepika   \n",
       "7  [1.3005296, 0.22714818, 0.14586487, -0.3549119...        Sharukh Khan   \n",
       "8  [-0.24016514, -0.9569494, -1.0685889, 0.797408...             Salman    \n",
       "9  [-1.5881868e-23, 1.7427129, 107374184.0, -1.77...      Morgan Freeman   \n",
       "\n",
       "      Role  \n",
       "0  Student  \n",
       "1  Student  \n",
       "2  Student  \n",
       "3  Teacher  \n",
       "4  Student  \n",
       "5  Student  \n",
       "6  Student  \n",
       "7  Teacher  \n",
       "8  Student  \n",
       "9  Teacher  "
      ]
     },
     "execution_count": 9,
     "metadata": {},
     "output_type": "execute_result"
    }
   ],
   "source": [
    "name = 'academy:register'\n",
    "retrive_dict= face_rec.r.hgetall(name)\n",
    "retrive_series = pd.Series(retrive_dict)\n",
    "retrive_series = retrive_series.apply(lambda x: np.frombuffer(x,dtype=np.float32))\n",
    "index = retrive_series.index\n",
    "index = list(map(lambda x: x.decode(), index))\n",
    "retrive_series.index = index\n",
    "retrive_df =  retrive_series.to_frame().reset_index()\n",
    "retrive_df.columns = ['name_role','facial_features']\n",
    "retrive_df[['Name','Role']] = retrive_df['name_role'].apply(lambda x: x.split('@')).apply(pd.Series)\n",
    "retrive_df"
   ]
  },
  {
   "cell_type": "markdown",
   "id": "5641843d",
   "metadata": {},
   "source": [
    "### Step-2: Get Real - Time Prediction"
   ]
  },
  {
   "cell_type": "code",
   "execution_count": 10,
   "id": "c7042031",
   "metadata": {},
   "outputs": [],
   "source": [
    "cap = cv2.VideoCapture(0) # default , # 1 for external camera\n",
    "\n",
    "while True:\n",
    "    ret, frame = cap.read()\n",
    "    \n",
    "    if ret == False:\n",
    "        break\n",
    "        \n",
    "    pred_frame = face_rec.face_prediction(frame,retrive_df,'facial_features',['Name','Role'],thresh=0.5)\n",
    "    \n",
    "    #cv2.imshow('frame',frame)\n",
    "    cv2.imshow('prediciton',pred_frame)\n",
    "    \n",
    "    if cv2.waitKey(1) == 27: # if i press esc button this condition will get trigged\n",
    "        break\n",
    "        \n",
    "cv2.destroyAllWindows()\n",
    "cap.release()"
   ]
  },
  {
   "cell_type": "markdown",
   "id": "bbe93ef2",
   "metadata": {
    "jp-MarkdownHeadingCollapsed": true
   },
   "source": [
    "### [END](https://www.udemy.com/user/freeai-space/)"
   ]
  }
 ],
 "metadata": {
  "kernelspec": {
   "display_name": "Python 3 (ipykernel)",
   "language": "python",
   "name": "python3"
  },
  "language_info": {
   "codemirror_mode": {
    "name": "ipython",
    "version": 3
   },
   "file_extension": ".py",
   "mimetype": "text/x-python",
   "name": "python",
   "nbconvert_exporter": "python",
   "pygments_lexer": "ipython3",
   "version": "3.11.4"
  }
 },
 "nbformat": 4,
 "nbformat_minor": 5
}
